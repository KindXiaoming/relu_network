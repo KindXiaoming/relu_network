{
 "cells": [
  {
   "cell_type": "markdown",
   "id": "bcf5a282",
   "metadata": {},
   "source": [
    "A one-layer network $y=\\sum_{i=1}^N c_i\\sigma(w_ix+b_i)$ where $\\sigma={\\rm ReLU}$."
   ]
  },
  {
   "cell_type": "markdown",
   "id": "06b57204",
   "metadata": {},
   "source": [
    "For the $i^{\\rm th}$ neuron, the \"kick\" occurs at $k_i=-b_i/w_i$."
   ]
  },
  {
   "cell_type": "markdown",
   "id": "29ab395f",
   "metadata": {},
   "source": [
    "Suppose we aim to fit the function $y(x)=x^2$ where $x\\in[-a,a]$, i.e., on a bounded region."
   ]
  },
  {
   "cell_type": "markdown",
   "id": "fab484f0",
   "metadata": {},
   "source": [
    "If a kick lies outside the region $[-a,a]$, we say the neuron is useless."
   ]
  },
  {
   "cell_type": "code",
   "execution_count": 1,
   "id": "9727489e",
   "metadata": {},
   "outputs": [],
   "source": [
    "import numpy as np\n",
    "import matplotlib.pyplot as plt\n",
    "import torch\n",
    "import torch.nn as nn\n",
    "import torch.nn.functional as F"
   ]
  },
  {
   "cell_type": "code",
   "execution_count": 2,
   "id": "dcf93bad",
   "metadata": {},
   "outputs": [],
   "source": [
    "# step 1: generate data: y = x^2 #\n",
    "\n",
    "seed = 5\n",
    "np.random.seed(seed)\n",
    "torch.manual_seed(seed)\n",
    "w = 200\n",
    "\n",
    "class Net(nn.Module):\n",
    "\n",
    "    def __init__(self, w=100):\n",
    "        super(Net, self).__init__()\n",
    "        self.l1 = nn.Linear(1, w)\n",
    "        self.l2 = nn.Linear(w, 1)\n",
    "\n",
    "    def forward(self, x):\n",
    "        self.f = torch.nn.LeakyReLU(0.0)\n",
    "        self.x1 = self.f(self.l1(x))\n",
    "        self.x2 = self.l2(self.x1)\n",
    "        return self.x2\n",
    "    \n",
    "num = 1001\n",
    "a = 1\n",
    "x = torch.linspace(-a,a,steps=num).unsqueeze(dim=1)\n",
    "label = x**2"
   ]
  },
  {
   "cell_type": "code",
   "execution_count": 3,
   "id": "510ae3bf",
   "metadata": {},
   "outputs": [
    {
     "name": "stdout",
     "output_type": "stream",
     "text": [
      "epoch: 0  | loss: 0.51349199\n",
      "epoch: 1000  | loss: 0.00000461\n",
      "epoch: 2000  | loss: 0.00000078\n",
      "epoch: 3000  | loss: 0.00000028\n",
      "epoch: 4000  | loss: 0.00000013\n"
     ]
    }
   ],
   "source": [
    "# step2: training relu network\n",
    "\n",
    "seed = 0\n",
    "np.random.seed(seed)\n",
    "torch.manual_seed(seed)\n",
    "\n",
    "model = Net(w=w)\n",
    "\n",
    "epochs = 5000\n",
    "log = 1000\n",
    "\n",
    "optimizer = torch.optim.Adam(model.parameters(), lr=0.001)\n",
    "#optimizer = torch.optim.SGD(model.parameters(), lr=0.1)\n",
    "cornerss = []\n",
    "\n",
    "for epoch in range(epochs):\n",
    "\n",
    "    optimizer.zero_grad()\n",
    "\n",
    "    outputs = model(x)\n",
    "    loss = torch.mean((outputs-label)**2)\n",
    "    loss.backward()\n",
    "    optimizer.step()\n",
    "    corners = -model.l1.bias/model.l1.weight[:,0]\n",
    "    cornerss.append(corners.detach().numpy())\n",
    "    \n",
    "    if epoch % log == 0:\n",
    "        print(\"epoch: %d  | loss: %.8f\"%(epoch, loss.detach().numpy()))\n",
    "        \n",
    "cornerss = np.array(cornerss)"
   ]
  },
  {
   "cell_type": "code",
   "execution_count": 4,
   "id": "10feb3cc",
   "metadata": {},
   "outputs": [
    {
     "data": {
      "text/plain": [
       "Text(0, 0.5, 'kick (abs)')"
      ]
     },
     "execution_count": 4,
     "metadata": {},
     "output_type": "execute_result"
    },
    {
     "data": {
      "image/png": "[encoded data removed]",
      "text/plain": [
       "<Figure size 432x288 with 1 Axes>"
      ]
     },
     "metadata": {
      "needs_background": "light"
     },
     "output_type": "display_data"
    }
   ],
   "source": [
    "plt.plot(np.arange(w), np.sort(np.abs(cornerss[0])))\n",
    "plt.plot(np.arange(w), np.sort(np.abs(cornerss[-1])))\n",
    "plt.yscale('log')\n",
    "#plt.ylim(0,5)\n",
    "plt.plot([0, w], [a,a], ls=\"--\", color=\"red\")\n",
    "plt.legend([\"intial\", \"final\"], fontsize=20)\n",
    "#plt.text(100,25,\"a=20\", fontsize=20, color=\"red\")\n",
    "\n",
    "plt.xlabel(\"neuron rank\", fontsize=15)\n",
    "plt.ylabel(\"kick (abs)\", fontsize=15)"
   ]
  },
  {
   "cell_type": "markdown",
   "id": "b413648b",
   "metadata": {},
   "source": [
    "For $a=1$: At initialization, there are about 50\\% useless neurons. After training, these 50\\% neurons remain useless. "
   ]
  },
  {
   "cell_type": "markdown",
   "id": "bf2cc5df",
   "metadata": {},
   "source": [
    "In general, useless neurons at intialization remains useless throughout training."
   ]
  }
 ],
 "metadata": {
  "kernelspec": {
   "display_name": "Python 3 (ipykernel)",
   "language": "python",
   "name": "python3"
  },
  "language_info": {
   "codemirror_mode": {
    "name": "ipython",
    "version": 3
   },
   "file_extension": ".py",
   "mimetype": "text/x-python",
   "name": "python",
   "nbconvert_exporter": "python",
   "pygments_lexer": "ipython3",
   "version": "3.9.7"
  }
 },
 "nbformat": 4,
 "nbformat_minor": 5
}
