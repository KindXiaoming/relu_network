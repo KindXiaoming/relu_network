{
 "cells": [
  {
   "cell_type": "code",
   "execution_count": 321,
   "id": "db081cc1",
   "metadata": {},
   "outputs": [],
   "source": [
    "# Relu network => piecewise linear\n",
    "# We investigate the distribution of corners throughout training\n",
    "\n",
    "import numpy as np\n",
    "import matplotlib.pyplot as plt\n",
    "import torch\n",
    "import torch.nn as nn\n",
    "import torch.nn.functional as F"
   ]
  },
  {
   "cell_type": "code",
   "execution_count": 322,
   "id": "36d906a8",
   "metadata": {},
   "outputs": [],
   "source": [
    "# step 1: generate data #\n",
    "num = 1001\n",
    "c = 1\n",
    "x = np.linspace(-c,c,num=num)\n",
    "y = (x/c)**2\n",
    "x = torch.tensor(x, dtype=torch.float, requires_grad=True).unsqueeze(dim=1)\n",
    "y = torch.tensor(y, dtype=torch.float, requires_grad=True).unsqueeze(dim=1)"
   ]
  },
  {
   "cell_type": "code",
   "execution_count": 323,
   "id": "70e80b5a",
   "metadata": {},
   "outputs": [],
   "source": [
    "# step 2: construct NN (1 hidden layer) #\n",
    "\n",
    "class Net(nn.Module):\n",
    "\n",
    "    def __init__(self, w=1000):\n",
    "        super(Net, self).__init__()\n",
    "        self.l1 = nn.Linear(1, w)\n",
    "        self.l2 = nn.Linear(w, 1)\n",
    "\n",
    "    def forward(self, x):\n",
    "        #f = torch.nn.LeakyReLU(0.3)\n",
    "        f = torch.nn.Tanh()\n",
    "        self.x1 = f(self.l1(x))\n",
    "        self.x2 = self.l2(self.x1)\n",
    "        return self.x2\n",
    "    \n",
    "model = Net()"
   ]
  },
  {
   "cell_type": "code",
   "execution_count": 324,
   "id": "8f86a9e2",
   "metadata": {},
   "outputs": [
    {
     "name": "stdout",
     "output_type": "stream",
     "text": [
      "tensor(506)\n"
     ]
    },
    {
     "data": {
      "image/png": "[encoded data removed]",
      "text/plain": [
       "<Figure size 432x288 with 1 Axes>"
      ]
     },
     "metadata": {
      "needs_background": "light"
     },
     "output_type": "display_data"
    }
   ],
   "source": [
    "# step 3: obtain locations of corners\n",
    "corners = -model.l1.bias/model.l1.weight[:,0]\n",
    "plt.hist(corners.detach().numpy(), range=(-c,c))\n",
    "\n",
    "print(torch.sum((corners < c)*(corners > -c)))"
   ]
  },
  {
   "cell_type": "code",
   "execution_count": 325,
   "id": "ce5c606f",
   "metadata": {},
   "outputs": [
    {
     "name": "stdout",
     "output_type": "stream",
     "text": [
      "epoch: 0  | loss: 0.41599569\n",
      "epoch: 10  | loss: 0.15223886\n",
      "epoch: 20  | loss: 0.08642653\n",
      "epoch: 30  | loss: 0.07416496\n",
      "epoch: 40  | loss: 0.05713199\n",
      "epoch: 50  | loss: 0.04378337\n",
      "epoch: 60  | loss: 0.03347452\n",
      "epoch: 70  | loss: 0.02465054\n",
      "epoch: 80  | loss: 0.01758342\n",
      "epoch: 90  | loss: 0.01213235\n",
      "epoch: 100  | loss: 0.00812769\n",
      "epoch: 110  | loss: 0.00532493\n",
      "epoch: 120  | loss: 0.00346418\n",
      "epoch: 130  | loss: 0.00229724\n",
      "epoch: 140  | loss: 0.00160851\n",
      "epoch: 150  | loss: 0.00122733\n",
      "epoch: 160  | loss: 0.00102972\n",
      "epoch: 170  | loss: 0.00093357\n",
      "epoch: 180  | loss: 0.00088925\n",
      "epoch: 190  | loss: 0.00086929\n"
     ]
    }
   ],
   "source": [
    "# step 4: training\n",
    "\n",
    "seed = 1\n",
    "np.random.seed(seed)\n",
    "torch.manual_seed(seed)\n",
    "\n",
    "model = Net()\n",
    "\n",
    "epochs = 200\n",
    "log = 10\n",
    "\n",
    "optimizer = torch.optim.Adam(model.parameters(), lr=0.001)\n",
    "#optimizer = torch.optim.SGD(model.parameters(), lr=0.001)\n",
    "cornerss = []\n",
    "\n",
    "for epoch in range(epochs):  # loop over the dataset multiple times\n",
    "\n",
    "    optimizer.zero_grad()\n",
    "\n",
    "    outputs = model(x)\n",
    "    loss = torch.mean((outputs-y)**2)\n",
    "    loss.backward()\n",
    "    optimizer.step()\n",
    "    corners = -model.l1.bias/model.l1.weight[:,0]\n",
    "    cornerss.append(corners.detach().numpy())\n",
    "    \n",
    "    if epoch % log == 0:\n",
    "        print(\"epoch: %d  | loss: %.8f\"%(epoch, loss.detach().numpy()))\n",
    "        \n",
    "cornerss = np.array(cornerss)"
   ]
  },
  {
   "cell_type": "code",
   "execution_count": 326,
   "id": "1a5c0048",
   "metadata": {},
   "outputs": [
    {
     "data": {
      "text/plain": [
       "array([512, 511, 512, 514, 514, 514, 514, 515, 514, 513, 512, 512, 513,\n",
       "       513, 512, 512, 513, 513, 512, 512, 512, 513, 512, 512, 513, 513,\n",
       "       514, 514, 514, 515, 515, 516, 516, 516, 516, 516, 516, 516, 517,\n",
       "       517, 517, 517, 517, 516, 516, 516, 517, 516, 516, 516, 515, 514,\n",
       "       513, 513, 513, 513, 513, 514, 514, 513, 513, 514, 515, 515, 515,\n",
       "       515, 515, 514, 514, 513, 514, 514, 513, 513, 513, 513, 513, 514,\n",
       "       513, 514, 514, 514, 514, 514, 514, 515, 516, 516, 516, 516, 516,\n",
       "       515, 514, 513, 513, 513, 513, 513, 513, 513, 513, 513, 514, 514,\n",
       "       514, 514, 514, 515, 515, 515, 516, 517, 516, 517, 517, 517, 517,\n",
       "       518, 518, 518, 518, 517, 517, 517, 516, 516, 516, 516, 516, 516,\n",
       "       516, 516, 516, 516, 516, 516, 516, 516, 516, 516, 515, 515, 515,\n",
       "       515, 515, 515, 515, 515, 515, 515, 515, 515, 515, 515, 515, 515,\n",
       "       515, 515, 515, 515, 515, 515, 515, 515, 515, 515, 515, 515, 515,\n",
       "       515, 515, 515, 515, 515, 515, 515, 515, 515, 515, 515, 515, 515,\n",
       "       515, 515, 515, 515, 515, 515, 515, 515, 515, 515, 515, 515, 515,\n",
       "       515, 515, 515, 515, 515])"
      ]
     },
     "execution_count": 326,
     "metadata": {},
     "output_type": "execute_result"
    }
   ],
   "source": [
    "c1 = c\n",
    "np.sum((cornerss < c1)*(cornerss > -c1), axis=1)"
   ]
  },
  {
   "cell_type": "code",
   "execution_count": 327,
   "id": "648bd562",
   "metadata": {},
   "outputs": [
    {
     "data": {
      "image/png": "[encoded data removed]",
      "text/plain": [
       "<Figure size 432x288 with 1 Axes>"
      ]
     },
     "metadata": {
      "needs_background": "light"
     },
     "output_type": "display_data"
    }
   ],
   "source": [
    "stds = np.std(cornerss, axis=1)\n",
    "plt.plot(range(epochs), stds)\n",
    "plt.yscale('log')"
   ]
  },
  {
   "cell_type": "code",
   "execution_count": 328,
   "id": "900eb06d",
   "metadata": {},
   "outputs": [
    {
     "data": {
      "text/plain": [
       "[<matplotlib.lines.Line2D at 0x7ff2522af4f0>]"
      ]
     },
     "execution_count": 328,
     "metadata": {},
     "output_type": "execute_result"
    },
    {
     "data": {
      "image/png": "[encoded data removed]",
      "text/plain": [
       "<Figure size 432x288 with 1 Axes>"
      ]
     },
     "metadata": {
      "needs_background": "light"
     },
     "output_type": "display_data"
    }
   ],
   "source": [
    "plt.plot(x.detach().numpy(), outputs[:,0].detach().numpy())\n",
    "plt.plot(x.detach().numpy(), y.detach().numpy())"
   ]
  },
  {
   "cell_type": "code",
   "execution_count": null,
   "id": "2b153a2c",
   "metadata": {},
   "outputs": [],
   "source": []
  }
 ],
 "metadata": {
  "kernelspec": {
   "display_name": "Python 3 (ipykernel)",
   "language": "python",
   "name": "python3"
  },
  "language_info": {
   "codemirror_mode": {
    "name": "ipython",
    "version": 3
   },
   "file_extension": ".py",
   "mimetype": "text/x-python",
   "name": "python",
   "nbconvert_exporter": "python",
   "pygments_lexer": "ipython3",
   "version": "3.9.7"
  }
 },
 "nbformat": 4,
 "nbformat_minor": 5
}
