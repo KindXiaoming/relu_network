{
 "cells": [
  {
   "cell_type": "code",
   "execution_count": 1,
   "id": "2fc40439",
   "metadata": {},
   "outputs": [],
   "source": [
    "# We investigate the positions of corners throughout training\n",
    "# tanh activation - tanh(w*x+b)\n",
    "# Like in Relu, corner is defined as -b/w.\n",
    "\n",
    "import numpy as np\n",
    "import matplotlib.pyplot as plt\n",
    "import torch\n",
    "import torch.nn as nn\n",
    "import torch.nn.functional as F"
   ]
  },
  {
   "cell_type": "code",
   "execution_count": 2,
   "id": "51155657",
   "metadata": {},
   "outputs": [],
   "source": [
    "# step 1: generate data #\n",
    "\n",
    "seed = 5\n",
    "np.random.seed(seed)\n",
    "torch.manual_seed(seed)\n",
    "# w: width of the teacher network\n",
    "w = 5\n",
    "# w2: width of the student network\n",
    "w2 = 10\n",
    "\n",
    "class Net(nn.Module):\n",
    "\n",
    "    def __init__(self, w=1):\n",
    "        super(Net, self).__init__()\n",
    "        self.l1 = nn.Linear(1, w)\n",
    "        self.l2 = nn.Linear(w, 1)\n",
    "\n",
    "    def forward(self, x):\n",
    "        #f = torch.nn.LeakyReLU(0.3)\n",
    "        f = torch.nn.Tanh()\n",
    "        self.x1 = f(self.l1(x))\n",
    "        self.x2 = self.l2(self.x1)\n",
    "        return self.x2\n",
    "    \n",
    "# teacher network\n",
    "GT = Net(w=w)\n",
    "num = 1001\n",
    "x = torch.linspace(-10,10,steps=num).unsqueeze(dim=1)\n",
    "label = GT(x).detach()\n",
    "corners_gt = -GT.l1.bias/GT.l1.weight[:,0]"
   ]
  },
  {
   "cell_type": "code",
   "execution_count": 3,
   "id": "e147e871",
   "metadata": {},
   "outputs": [
    {
     "data": {
      "text/plain": [
       "[<matplotlib.lines.Line2D at 0x7f8e01606340>]"
      ]
     },
     "execution_count": 3,
     "metadata": {},
     "output_type": "execute_result"
    },
    {
     "data": {
      "image/png": "[encoded data removed]",
      "text/plain": [
       "<Figure size 432x288 with 1 Axes>"
      ]
     },
     "metadata": {
      "needs_background": "light"
     },
     "output_type": "display_data"
    }
   ],
   "source": [
    "plt.plot(x.detach().numpy()[:,0], label.detach().numpy()[:,0])"
   ]
  },
  {
   "cell_type": "code",
   "execution_count": 4,
   "id": "eb090dc6",
   "metadata": {},
   "outputs": [
    {
     "data": {
      "text/plain": [
       "tensor([ 1.1608, -0.8976, -0.5839,  1.4589, -1.1763], grad_fn=<DivBackward0>)"
      ]
     },
     "execution_count": 4,
     "metadata": {},
     "output_type": "execute_result"
    }
   ],
   "source": [
    "# corners in teacher network\n",
    "corners_gt"
   ]
  },
  {
   "cell_type": "code",
   "execution_count": 5,
   "id": "0c939408",
   "metadata": {},
   "outputs": [
    {
     "name": "stdout",
     "output_type": "stream",
     "text": [
      "epoch: 0  | loss: 0.05283320\n",
      "epoch: 1000  | loss: 0.00002341\n",
      "epoch: 2000  | loss: 0.00001360\n",
      "epoch: 3000  | loss: 0.00001171\n",
      "epoch: 4000  | loss: 0.00001027\n",
      "epoch: 5000  | loss: 0.00000904\n",
      "epoch: 6000  | loss: 0.00000798\n",
      "epoch: 7000  | loss: 0.00000708\n",
      "epoch: 8000  | loss: 0.00000632\n",
      "epoch: 9000  | loss: 0.00000567\n"
     ]
    }
   ],
   "source": [
    "# step2: training\n",
    "\n",
    "seed = 3\n",
    "np.random.seed(seed)\n",
    "torch.manual_seed(seed)\n",
    "\n",
    "model = Net(w=w2)\n",
    "\n",
    "epochs = 10000\n",
    "log = 1000\n",
    "\n",
    "#optimizer = torch.optim.Adam(model.parameters(), lr=0.005)\n",
    "optimizer = torch.optim.SGD(model.parameters(), lr=0.1)\n",
    "cornerss = []\n",
    "\n",
    "for epoch in range(epochs):  # loop over the dataset multiple times\n",
    "\n",
    "    optimizer.zero_grad()\n",
    "\n",
    "    outputs = model(x)\n",
    "    loss = torch.mean((outputs-label)**2)\n",
    "    loss.backward()\n",
    "    optimizer.step()\n",
    "    corners = -model.l1.bias/model.l1.weight[:,0]\n",
    "    cornerss.append(corners.detach().numpy())\n",
    "    \n",
    "    if epoch % log == 0:\n",
    "        print(\"epoch: %d  | loss: %.8f\"%(epoch, loss.detach().numpy()))\n",
    "        \n",
    "cornerss = np.array(cornerss)"
   ]
  },
  {
   "cell_type": "code",
   "execution_count": 6,
   "id": "21d2d9d0",
   "metadata": {},
   "outputs": [
    {
     "data": {
      "text/plain": [
       "(-5.0, 5.0)"
      ]
     },
     "execution_count": 6,
     "metadata": {},
     "output_type": "execute_result"
    },
    {
     "data": {
      "image/png": "[encoded data removed]",
      "text/plain": [
       "<Figure size 432x288 with 1 Axes>"
      ]
     },
     "metadata": {
      "needs_background": "light"
     },
     "output_type": "display_data"
    }
   ],
   "source": [
    "\n",
    "# blue lines: evolution of corners in training\n",
    "for i in range(w2):\n",
    "    plt.plot(np.arange(epochs), cornerss[:,i], color=\"blue\")\n",
    "    \n",
    "# red dots: ground truth corners\n",
    "for i in range(w):\n",
    "    plt.scatter([epochs],[corners_gt[i].detach().numpy()], color=\"red\")\n",
    "\n",
    "plt.ylim(-5,5)"
   ]
  }
 ],
 "metadata": {
  "kernelspec": {
   "display_name": "Python 3 (ipykernel)",
   "language": "python",
   "name": "python3"
  },
  "language_info": {
   "codemirror_mode": {
    "name": "ipython",
    "version": 3
   },
   "file_extension": ".py",
   "mimetype": "text/x-python",
   "name": "python",
   "nbconvert_exporter": "python",
   "pygments_lexer": "ipython3",
   "version": "3.9.7"
  }
 },
 "nbformat": 4,
 "nbformat_minor": 5
}
